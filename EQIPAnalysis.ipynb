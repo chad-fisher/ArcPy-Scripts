{
 "cells": [
  {
   "cell_type": "code",
   "execution_count": 64,
   "metadata": {},
   "outputs": [],
   "source": [
    "#Import arcpy and set workspace\n",
    "import arcpy\n",
    "from arcpy import env\n",
    "env.workspace=\"H:/UEP 235/Final_Project/EQIPAnalysis/EQIPAnalysis.gdb\"\n",
    "env.addOutputsToMap = False"
   ]
  },
  {
   "cell_type": "code",
   "execution_count": 65,
   "metadata": {},
   "outputs": [
    {
     "data": {
      "text/html": [
       "<div class='gpresult'><h2>Messages</h2><div id='messages' data-messages='[\"Start Time: Friday, December 8, 2023 6:47:29 PM\",\"Adding County_State_ID to FederalCodes_Counties...\",\"Succeeded at Friday, December 8, 2023 6:47:31 PM (Elapsed Time: 1.55 seconds)\"]' data-show='true'><div id = 'default' /></div></div>"
      ],
      "text/plain": [
       "<Result 'H:/UEP 235/Final_Project/EQIPAnalysis/EQIPAnalysis.gdb\\\\FederalCodes_Counties'>"
      ]
     },
     "execution_count": 65,
     "metadata": {},
     "output_type": "execute_result"
    }
   ],
   "source": [
    "#Gathering state names for each county \n",
    "arcpy.management.MakeFeatureLayer(\n",
    "    \"H:/UEP 235/Final_Project/Federal Codes/Gazetteer_National_GDB/Gazetteer_National_GDB.gdb/Topical_Gazetteer/FederalCodes\",\n",
    "    \"FederalCodesCounties\",\n",
    "    \"Census_Class_Code LIKE 'H%' OR Census_Class_Code='C7'\"\n",
    ")\n",
    "arcpy.conversion.ExportFeatures(\n",
    "    in_features=\"FederalCodesCounties\",\n",
    "    out_features=\"H:/UEP 235/Final_Project/EQIPAnalysis/EQIPAnalysis.gdb/FederalCodes_Counties\",\n",
    "    use_field_alias_as_name=\"NOT_USE_ALIAS\",\n",
    "    field_mapping='feature_id \"Feature_ID\" true true false 4 Long 0 0,First,#,FederalCodesCounties,feature_id,-1,-1;feature_name \"Feature_Name\" true true false 120 Text 0 0,First,#,FederalCodesCounties,feature_name,0,120;feature_class \"Feature_Class\" true true false 50 Text 0 0,First,#,FederalCodesCounties,feature_class,0,50;state_name \"State_Name\" true true false 100 Text 0 0,First,#,FederalCodesCounties,state_name,0,100;state_numeric \"State_Numeric\" true true false 2 Text 0 0,First,#,FederalCodesCounties,state_numeric,0,2;county_name \"County_Name\" true true false 100 Text 0 0,First,#,FederalCodesCounties,county_name,0,100;county_numeric \"County_Numeric\" true true false 5 Text 0 0,First,#,FederalCodesCounties,county_numeric,0,5',\n",
    ")\n",
    "arcpy.management.CalculateField(\n",
    "    \"FederalCodes_Counties\",\n",
    "    \"County_State_ID\",\n",
    "    \"!state_numeric!!county_numeric!\",\n",
    ")"
   ]
  },
  {
   "cell_type": "code",
   "execution_count": 66,
   "metadata": {},
   "outputs": [
    {
     "data": {
      "text/html": [
       "<div class='gpresult'><h2>Messages</h2><div id='messages' data-messages='[\"Start Time: Friday, December 8, 2023 6:47:33 PM\",\"Succeeded at Friday, December 8, 2023 6:47:37 PM (Elapsed Time: 4.20 seconds)\"]' data-show='true'><div id = 'default' /></div></div>"
      ],
      "text/plain": [
       "<Result 'H:\\\\UEP 235\\\\Final_Project\\\\EQIPAnalysis\\\\EQIPAnalysis.gdb\\\\Boundary_Polygons\\\\AllCountiesWStates'>"
      ]
     },
     "execution_count": 66,
     "metadata": {},
     "output_type": "execute_result"
    }
   ],
   "source": [
    "# Adding state names to county shapefile\n",
    "arcpy.management.AddJoin(\n",
    "    in_layer_or_view=\"AllCounties2022\",\n",
    "    in_field=\"GEOID\",\n",
    "    join_table=\"FederalCodes_Counties\",\n",
    "    join_field=\"County_State_ID\",\n",
    "    join_type=\"KEEP_COMMON\",\n",
    "    index_join_fields=\"INDEX_JOIN_FIELDS\"\n",
    ")\n",
    "arcpy.management.CopyFeatures(\n",
    "    \"AllCounties2022_Layer\",\n",
    "    \"H:/UEP 235/Final_Project/EQIPAnalysis/EQIPAnalysis.gdb/Boundary_Polygons/AllCountiesWStates\"\n",
    ")"
   ]
  },
  {
   "cell_type": "code",
   "execution_count": 67,
   "metadata": {
    "scrolled": false
   },
   "outputs": [
    {
     "data": {
      "text/html": [
       "<div class='gpresult'><h2>Messages</h2><div id='messages' data-messages='[\"Start Time: Friday, December 8, 2023 6:47:53 PM\",\"Succeeded at Friday, December 8, 2023 6:48:05 PM (Elapsed Time: 11.95 seconds)\"]' data-show='true'><div id = 'default' /></div></div>"
      ],
      "text/plain": [
       "<Result 'H:\\\\UEP 235\\\\Final_Project\\\\EQIPAnalysis\\\\EQIPAnalysis.gdb\\\\Boundary_Polygons\\\\CountiesWContracts'>"
      ]
     },
     "execution_count": 67,
     "metadata": {},
     "output_type": "execute_result"
    }
   ],
   "source": [
    "#Extract contiguous US counties\n",
    "arcpy.analysis.Select(\n",
    "    \"AllCountiesWStates\",\n",
    "    \"H:/UEP 235/Final_Project/EQIPAnalysis/EQIPAnalysis.gdb/Boundary_Polygons/ContiguousUSCounties\",\n",
    "    \"AllCounties2022_STATEFP NOT IN ('11', '69', '60', '66', '15', '02', '72', '78','!',' ')\"\n",
    ")\n",
    "\n",
    "#Fix St. vs St issues\n",
    "fc=\"ContiguousUSCounties_lyr\"\n",
    "fields=['AllCounties2022_NAME']\n",
    "arcpy.management.MakeFeatureLayer(\n",
    "    \"ContiguousUSCounties\",\n",
    "    \"ContiguousUSCounties_lyr\"\n",
    ")\n",
    "arcpy.management.SelectLayerByAttribute(\n",
    "    in_layer_or_view=\"ContiguousUSCounties_lyr\",\n",
    "    selection_type=\"NEW_SELECTION\",\n",
    "    where_clause=\"AllCounties2022_NAME LIKE 'St.%'\",\n",
    ")\n",
    "with arcpy.da.UpdateCursor(fc, fields) as cursor:\n",
    "    for row in cursor:\n",
    "        name=row[0]\n",
    "        row[0] = name[0:2]+' '+name[4:]\n",
    "        cursor.updateRow(row) \n",
    "arcpy.management.SelectLayerByAttribute(\n",
    "    in_layer_or_view=\"ContiguousUSCounties_lyr\",\n",
    "    selection_type=\"CLEAR_SELECTION\",\n",
    ")\n",
    "\n",
    "#Fix 's vs. s issues\n",
    "fc=\"ContiguousUSCounties_lyr\"\n",
    "fields=['AllCounties2022_NAME']\n",
    "arcpy.management.MakeFeatureLayer(\n",
    "    \"ContiguousUSCounties\",\n",
    "    \"ContiguousUSCounties_lyr\"\n",
    ")\n",
    "arcpy.management.SelectLayerByAttribute(\n",
    "    in_layer_or_view=\"ContiguousUSCounties_lyr\",\n",
    "    selection_type=\"NEW_SELECTION\",\n",
    "    where_clause=\"AllCounties2022_NAME LIKE '%''s'\",\n",
    ")\n",
    "with arcpy.da.UpdateCursor(fc, fields) as cursor:\n",
    "    for row in cursor:\n",
    "        name=row[0]\n",
    "        row[0] = name[:-2]+name[-1:]\n",
    "        cursor.updateRow(row) \n",
    "arcpy.management.SelectLayerByAttribute(\n",
    "    in_layer_or_view=\"ContiguousUSCounties_lyr\",\n",
    "    selection_type=\"CLEAR_SELECTION\",\n",
    ")\n",
    "\n",
    "#Create unique text ID for states and counties together\n",
    "arcpy.management.CalculateField(\n",
    "    in_table=\"ContiguousUSCounties\",\n",
    "    field=\"County_States\",\n",
    "    expression='Concatenate($feature.AllCounties2022_NAME,\", \",$feature.FederalCodes_Counties_state_name)',\n",
    "    expression_type=\"ARCADE\",\n",
    "    code_block=\"\"\"# Joins two or more fields into a single string value\n",
    "                # More calculator examples at esriurl.com/CalculatorExamples\n",
    "                def ConcatenateFields(*args):\n",
    "                sep = \"-\"\n",
    "                return sep.join([i for i in args if i])\"\"\",\n",
    "    field_type=\"TEXT\",\n",
    "    enforce_domains=\"NO_ENFORCE_DOMAINS\"\n",
    ")\n",
    "arcpy.management.CalculateField(\n",
    "    \"EQIPContracts\",\n",
    "    \"County_States\",\n",
    "    expression='Concatenate($feature.County,\", \",$feature.State)',\n",
    "    expression_type=\"ARCADE\",\n",
    "    code_block=\"\"\"# Joins two or more fields into a single string value\n",
    "                # More calculator examples at esriurl.com/CalculatorExamples\n",
    "                def ConcatenateFields(*args):\n",
    "                sep = \"-\"\n",
    "                return sep.join([i for i in args if i])\"\"\",\n",
    "    field_type=\"TEXT\",\n",
    "    enforce_domains=\"NO_ENFORCE_DOMAINS\"\n",
    ")\n",
    "\n",
    "#Join EQIP contract data onto US counties\n",
    "arcpy.management.AddJoin(\n",
    "    in_layer_or_view=\"ContiguousUSCounties_lyr\",\n",
    "    in_field=\"County_States\",\n",
    "    join_table=\"EQIPContracts\",\n",
    "    join_field=\"County_States\",\n",
    "    join_type=\"KEEP_COMMON\",\n",
    "    index_join_fields=\"INDEX_JOIN_FIELDS\"\n",
    ")\n",
    "arcpy.management.CopyFeatures(\n",
    "    \"ContiguousUSCounties_lyr\",\n",
    "    \"H:/UEP 235/Final_Project/EQIPAnalysis/EQIPAnalysis.gdb/Boundary_Polygons/CountiesWContracts\"\n",
    ")"
   ]
  },
  {
   "cell_type": "code",
   "execution_count": 68,
   "metadata": {},
   "outputs": [
    {
     "data": {
      "text/html": [
       "<div class='gpresult'><h2>Messages</h2><div id='messages' data-messages='[\"Start Time: Friday, December 8, 2023 6:48:06 PM\",\"Adding FiscalYear to CountiesWContracts...\",\"Succeeded at Friday, December 8, 2023 6:48:13 PM (Elapsed Time: 7.56 seconds)\"]' data-show='true'><div id = 'default' /></div></div>"
      ],
      "text/plain": [
       "<Result 'H:/UEP 235/Final_Project/EQIPAnalysis/EQIPAnalysis.gdb/Boundary_Polygons/CountiesWContracts'>"
      ]
     },
     "execution_count": 68,
     "metadata": {},
     "output_type": "execute_result"
    }
   ],
   "source": [
    "#Create date field for space time cube\n",
    "arcpy.management.ConvertTimeField(\n",
    "    in_table=\"H:/UEP 235/Final_Project/EQIPAnalysis/EQIPAnalysis.gdb/Boundary_Polygons/CountiesWContracts\",\n",
    "    input_time_field=\"EQIPContracts_FY\",\n",
    "    input_time_format=\"yyyy\",\n",
    "    output_time_field=\"FiscalYear\",\n",
    "    output_time_type=\"DATE\",\n",
    ")"
   ]
  },
  {
   "cell_type": "code",
   "execution_count": 69,
   "metadata": {},
   "outputs": [
    {
     "data": {
      "text/html": [
       "<div class='gpresult'><h2>Messages</h2><div id='messages' data-messages='[\"Start Time: Friday, December 8, 2023 6:48:19 PM\",\"Succeeded at Friday, December 8, 2023 6:48:19 PM (Elapsed Time: 0.02 seconds)\"]' data-show='true'><div id = 'default' /></div></div>"
      ],
      "text/plain": [
       "<Result 'CountiesWContracts_lyr'>"
      ]
     },
     "execution_count": 69,
     "metadata": {},
     "output_type": "execute_result"
    }
   ],
   "source": [
    "#Filling in  suppressed values with zeros\n",
    "arcpy.management.MakeFeatureLayer(\n",
    "    \"CountiesWContracts\",\n",
    "    \"CountiesWContracts_lyr\"\n",
    ")\n",
    "arcpy.management.SelectLayerByAttribute(\n",
    "    in_layer_or_view=\"CountiesWContracts_lyr\",\n",
    "    selection_type=\"NEW_SELECTION\",\n",
    "    where_clause=\"EQIPContracts_Suppressed = 'TRUE'\",\n",
    ")\n",
    "arcpy.management.CalculateField(\n",
    "    \"CountiesWContracts_lyr\",\n",
    "    \"EQIPContracts_Contract_count\",\n",
    "    \"0\",\n",
    ")\n",
    "arcpy.management.CalculateField(\n",
    "    \"CountiesWContracts_lyr\",\n",
    "    \"EQIPContracts_Acres_Contracted\",\n",
    "    \"0\",\n",
    ")\n",
    "arcpy.management.CalculateField(\n",
    "    \"CountiesWContracts_lyr\",\n",
    "    \"EQIPContracts_Dollars_Obligated\",\n",
    "    \"0\",\n",
    ")\n",
    "arcpy.management.SelectLayerByAttribute(\n",
    "    in_layer_or_view=\"CountiesWContracts_lyr\",\n",
    "    selection_type=\"CLEAR_SELECTION\",\n",
    ")"
   ]
  },
  {
   "cell_type": "code",
   "execution_count": 70,
   "metadata": {},
   "outputs": [
    {
     "data": {
      "text/html": [
       "<div class='gpresult'><h2>Messages</h2><div id='messages' data-messages='[\"Start Time: Friday, December 8, 2023 6:48:24 PM\",[{\"element\":\"table\",\"data\":[[{\"data\":\"Input feature time extent\",\"prop\":{\"rowspan\":2}},\"2014-01-01 00:00:00\"],[{\"data\":\"to 2023-01-01 00:00:00\",\"prop\":{\"text-align\":\"right\"}}],[\"\",\"\"],[\"Number of time steps\",\"10\"],[\"Time step interval\",\"1 year\"],[\"Time step alignment\",\"End\"],[\"\",\"\"],[\"First time step temporal bias\",\"0.00%\"],[{\"data\":\"First time step interval\",\"prop\":{\"rowspan\":4}},\"after\"],[{\"data\":\"2013-01-01 00:00:00\",\"prop\":{\"text-align\":\"right\"}}],[{\"data\":\"to on or before\",\"prop\":{\"text-align\":\"right\"}}],[{\"data\":\"2014-01-01 00:00:00\",\"prop\":{\"text-align\":\"right\"}}],[\"\",\"\"],[\"Last time step temporal bias\",\"0.00%\"],[{\"data\":\"Last time step interval\",\"prop\":{\"rowspan\":4}},\"after\"],[{\"data\":\"2022-01-01 00:00:00\",\"prop\":{\"text-align\":\"right\"}}],[{\"data\":\"to on or before\",\"prop\":{\"text-align\":\"right\"}}],[{\"data\":\"2023-01-01 00:00:00\",\"prop\":{\"text-align\":\"right\"}}],[\"\",\"\"],[\"Coordinate System\",\"NAD 1983 2011 Contiguous USA Albers\"],[\"Cube extent across space\",\"(coordinates in meters)\"],[\"Min X\",\"-2361582.2779\"],[\"Min Y\",\"310896.2075\"],[\"Max X\",\"2263786.1897\"],[\"Max Y\",\"3177425.2132\"]],\"elementProps\":{\"striped\":\"true\",\"noHeader\":true,\"title\":\"Space Time Cube Characteristics\",\"0\":{\"align\":\"left\",\"pad\":\"0px\",\"wrap\":true},\"1\":{\"align\":\"right\",\"pad\":\"0px\",\"wrap\":true}}}],[{\"element\":\"table\",\"data\":[[\"Locations\",\"3038\"],[\"% of locations with estimated observations\",\"22.58\"],[\"- Total number\",\"686\"],[\"Total observations\",\"30380\"],[\"% of all observations that were estimated\",\"4.98\"],[\"- Total number\",\"1514\"]],\"elementProps\":{\"striped\":\"true\",\"noHeader\":true,\"0\":{\"align\":\"left\",\"pad\":\"0px\",\"wrap\":true},\"1\":{\"align\":\"right\",\"pad\":\"0px\",\"wrap\":true}}}],[{\"element\":\"table\",\"data\":[[\"Trend direction\",\"Not Significant\"],[\"Trend statistic\",\"-1.2522\"],[\"Trend p-value\",\"0.2105\"]],\"elementProps\":{\"striped\":\"true\",\"noHeader\":true,\"title\":\"Overall Data Trend - EQIPCONTRACTS_CONTRACT_COUNT_NONE_ZEROS\",\"0\":{\"align\":\"left\",\"pad\":\"0px\",\"wrap\":true},\"1\":{\"align\":\"right\",\"pad\":\"0px\",\"wrap\":true}}}],[{\"element\":\"table\",\"data\":[[\"Trend direction\",\"Not Significant\"],[\"Trend statistic\",\"-0.7155\"],[\"Trend p-value\",\"0.4743\"]],\"elementProps\":{\"striped\":\"true\",\"noHeader\":true,\"title\":\"Overall Data Trend - EQIPCONTRACTS_ACRES_CONTRACTED_NONE_ZEROS\",\"0\":{\"align\":\"left\",\"pad\":\"0px\",\"wrap\":true},\"1\":{\"align\":\"right\",\"pad\":\"0px\",\"wrap\":true}}}],[{\"element\":\"table\",\"data\":[[\"Trend direction\",\"     Increasing\"],[\"Trend statistic\",\"2.3255\"],[\"Trend p-value\",\"0.0200\"]],\"elementProps\":{\"striped\":\"true\",\"noHeader\":true,\"title\":\"Overall Data Trend - EQIPCONTRACTS_DOLLARS_OBLIGATED_NONE_ZEROS\",\"0\":{\"align\":\"left\",\"pad\":\"0px\",\"wrap\":true},\"1\":{\"align\":\"right\",\"pad\":\"0px\",\"wrap\":true}}}],\"Succeeded at Friday, December 8, 2023 6:53:29 PM (Elapsed Time: 5 minutes 4 seconds)\"]' data-show='true'><div id = 'default' /></div></div>"
      ],
      "text/plain": [
       "<Result 'H:\\\\UEP 235\\\\Final_Project\\\\EQIPAnalysis\\\\EQIPContractsCube.nc'>"
      ]
     },
     "execution_count": 70,
     "metadata": {},
     "output_type": "execute_result"
    }
   ],
   "source": [
    "#Create space time cube\n",
    "arcpy.stpm.CreateSpaceTimeCubeDefinedLocations(\n",
    "    in_features=\"CountiesWContracts\",\n",
    "    output_cube=\"H:/UEP 235/Final_Project/EQIPAnalysis/EQIPContractsCube.nc\",\n",
    "    location_id=\"ContiguousUSCounties_AllCounties2022_GEOID\",\n",
    "    temporal_aggregation=\"NO_TEMPORAL_AGGREGATION\",\n",
    "    time_field=\"FiscalYear\",\n",
    "    time_step_interval=\"1 Years\",\n",
    "    time_step_alignment=\"END_TIME\",\n",
    "    reference_time=None,\n",
    "    variables=\"EQIPContracts_Contract_count ZEROS;EQIPContracts_Acres_Contracted ZEROS;EQIPContracts_Dollars_Obligated ZEROS\",\n",
    "    summary_fields=None,\n",
    "    in_related_table=None,\n",
    "    related_location_id=None\n",
    ")"
   ]
  },
  {
   "cell_type": "code",
   "execution_count": 72,
   "metadata": {},
   "outputs": [
    {
     "data": {
      "text/html": [
       "<div class='gpresult'><h2>Messages</h2><div id='messages' data-messages='[\"Start Time: Friday, December 8, 2023 7:09:22 PM\",\"WARNING 110020: The default Neighborhood Distance is 192524.746402 meters.\",\"\",[{\"element\":\"table\",\"data\":[[\"Time step interval\",\"1 year\"],[\"\",\"\"],[\"Shape Type\",\"Polygon\"],[\"\",\"\"],[\"First time step temporal bias\",\"0.00%\"],[{\"data\":\"First time step interval\",\"prop\":{\"rowspan\":4}},\"after\"],[{\"data\":\"2013-01-01 00:00:00\",\"prop\":{\"text-align\":\"right\"}}],[{\"data\":\"to on or before\",\"prop\":{\"text-align\":\"right\"}}],[{\"data\":\"2014-01-01 00:00:00\",\"prop\":{\"text-align\":\"right\"}}],[\"\",\"\"],[\"Last time step temporal bias\",\"0.00%\"],[{\"data\":\"Last time step interval\",\"prop\":{\"rowspan\":4}},\"after\"],[{\"data\":\"2022-01-01 00:00:00\",\"prop\":{\"text-align\":\"right\"}}],[{\"data\":\"to on or before\",\"prop\":{\"text-align\":\"right\"}}],[{\"data\":\"2023-01-01 00:00:00\",\"prop\":{\"text-align\":\"right\"}}],[\"\",\"\"],[\"Number of time steps\",\"10\"],[\"Number of locations analyzed\",\"3038\"],[\"Number of space time bins analyzed\",\"30380\"]],\"elementProps\":{\"striped\":\"true\",\"noHeader\":true,\"title\":\"Input Space Time Cube Details\",\"0\":{\"align\":\"left\",\"pad\":\"0px\",\"wrap\":true},\"1\":{\"align\":\"right\",\"pad\":\"0px\",\"wrap\":true}}}],[{\"element\":\"table\",\"data\":[[\"Neighborhood distance\",\"192524.746402 meters\"],[\"Neighborhood time step intervals\",\"1 (spanning 1 year)\"]],\"elementProps\":{\"striped\":\"true\",\"noHeader\":true,\"title\":\"Analysis Details\",\"0\":{\"align\":\"left\",\"pad\":\"0px\",\"wrap\":true},\"1\":{\"align\":\"right\",\"pad\":\"0px\",\"wrap\":true}}}],[{\"element\":\"table\",\"data\":[[\"\",\"HOT\",\"COLD\"],[\"New\",\"17\",\"6\"],[\"Consecutive\",\"278\",\"28\"],[\"Intensifying\",\"75\",\"15\"],[\"Persistent\",\"73\",\"114\"],[\"Diminishing\",\"2\",\"285\"],[\"Sporadic\",\"89\",\"317\"],[\"Oscillating\",\"22\",\"2\"],[\"Historical\",\"0\",\"0\"]],\"elementProps\":{\"striped\":\"true\",\"footnote\":[\"All locations with hot or cold spot trends: 1323 of 3038\"],\"title\":\"Summary of Results\",\"0\":{\"align\":\"left\",\"pad\":\"0px\",\"wrap\":true},\"1\":{\"align\":\"right\",\"pad\":\"0px\",\"wrap\":true},\"2\":{\"align\":\"right\",\"pad\":\"0px\",\"wrap\":true}}}],{\"element\":\"h5\",\"data\":\"Category Definitions\"},{\"element\":\"content\",\"data\":\"Last time step is hot:\"},{\"element\":\"unorderedlist\",\"data\":[\"New: the most recent time step interval is hot for the first time\",\"Consecutive: a single uninterrupted run of hot time step intervals, comprised of less than 90% of all intervals\",\"Intensifying: at least 90% of the time step intervals are hot, and becoming hotter over time\",\"Persistent: at least 90% of the time step intervals are hot, with no trend up or down\",\"Diminishing: at least 90% of the time step intervals are hot, and becoming less hot over time\",\"Sporadic: some of the time step intervals are hot\",\"Oscillating: some of the time step intervals are hot, some are cold\"]},{\"element\":\"content\",\"data\":\"Last time step is not hot:\"},{\"element\":\"unorderedlist\",\"data\":[\"Historical: at least 90% of the time step intervals are hot, but the most recent time step interval is not\"]},{\"element\":\"content\",\"data\":\"Last time step is cold:\"},{\"element\":\"unorderedlist\",\"data\":[\"New: the most recent time step interval is cold for the first time\",\"Consecutive: a single uninterrupted run of cold time step intervals, comprised of less than 90% of all\",\"Intensifying: at least 90% of the time step intervals are cold, and becoming colder over time\",\"Persistent: at least 90% of the time step intervals are cold, with no trend up or down\",\"Diminishing: at least 90% of the time step intervals are cold, and becoming less cold over time intervals\",\"Sporadic: some of the time step intervals are cold\",\"Oscillating: some of the time step intervals are cold, some are hot\"]},{\"element\":\"content\",\"data\":\"Last time step is not cold:\"},{\"element\":\"unorderedlist\",\"data\":[\"Historical: at least 90% of the time step intervals are cold, but the most recent time step interval is not\"]},\"\\n\\n\\n\\n\\n\\n\\n\\n\\n\",\"Succeeded at Friday, December 8, 2023 7:09:43 PM (Elapsed Time: 20.94 seconds)\"]' data-show='true'><div id = 'default' /></div></div>"
      ],
      "text/plain": [
       "<Result 'H:/UEP 235/Final_Project/EQIPAnalysis/EQIPAnalysis.gdb\\\\HotspotResults\\\\Hotspots_dollars'>"
      ]
     },
     "execution_count": 72,
     "metadata": {},
     "output_type": "execute_result"
    }
   ],
   "source": [
    "env.addOutputsToMap = True\n",
    "arcpy.stpm.EmergingHotSpotAnalysis(\n",
    "    \"H:/UEP 235/Final_Project/EQIPAnalysis/EQIPContractsCube.nc\",\n",
    "    \"EQIPCONTRACTS_CONTRACT_COUNT_NONE_ZEROS\",\n",
    "    \"HotspotResults/Hotspots_contracts\",\n",
    ")\n",
    "arcpy.stpm.EmergingHotSpotAnalysis(\n",
    "    \"H:/UEP 235/Final_Project/EQIPAnalysis/EQIPContractsCube.nc\",\n",
    "    \"EQIPCONTRACTS_ACRES_CONTRACTED_NONE_ZEROS\",\n",
    "    \"HotspotResults/Hotspots_acreage\",\n",
    ")\n",
    "arcpy.stpm.EmergingHotSpotAnalysis(\n",
    "    \"H:/UEP 235/Final_Project/EQIPAnalysis/EQIPContractsCube.nc\",\n",
    "    \"EQIPCONTRACTS_DOLLARS_OBLIGATED_NONE_ZEROS\",\n",
    "    \"HotspotResults/Hotspots_dollars\",\n",
    ")"
   ]
  },
  {
   "cell_type": "code",
   "execution_count": 73,
   "metadata": {},
   "outputs": [
    {
     "data": {
      "text/html": [
       "<div class='gpresult'><h2>Messages</h2><div id='messages' data-messages='[\"Start Time: Friday, December 8, 2023 7:10:32 PM\",\"Succeeded at Friday, December 8, 2023 7:10:33 PM (Elapsed Time: 0.39 seconds)\"]' data-show='true'><div id = 'default' /></div></div>"
      ],
      "text/plain": [
       "<Result 'States_lyr'>"
      ]
     },
     "execution_count": 73,
     "metadata": {},
     "output_type": "execute_result"
    }
   ],
   "source": [
    "#Add state boundaries\n",
    "arcpy.management.MakeFeatureLayer(\n",
    "    \"Boundary_Polygons/States\",\n",
    "    \"States_lyr\"\n",
    ")"
   ]
  },
  {
   "cell_type": "code",
   "execution_count": 75,
   "metadata": {},
   "outputs": [
    {
     "data": {
      "text/html": [
       "<div class='gpresult'><h2>Messages</h2><div id='messages' data-messages='[\"Start Time: Friday, December 8, 2023 7:17:47 PM\",\"Succeeded at Friday, December 8, 2023 7:18:24 PM (Elapsed Time: 36.56 seconds)\"]' data-show='true'><div id = 'default' /></div></div>"
      ],
      "text/plain": [
       "<Result 'H:\\\\UEP 235\\\\Final_Project\\\\EQIPAnalysis\\\\EQIPAnalysis.gdb\\\\MeanCenters\\\\Contracts'>"
      ]
     },
     "execution_count": 75,
     "metadata": {},
     "output_type": "execute_result"
    }
   ],
   "source": [
    "#Mean Center Calculations\n",
    "arcpy.stats.MeanCenter(\n",
    "    Input_Feature_Class=r\"H:\\UEP 235\\Final_Project\\EQIPAnalysis\\EQIPAnalysis.gdb\\Boundary_Polygons\\CountiesWContracts\",\n",
    "    Output_Feature_Class=r\"H:\\UEP 235\\Final_Project\\EQIPAnalysis\\EQIPAnalysis.gdb\\MeanCenters\\Acreage\",\n",
    "    Weight_Field=\"EQIPContracts_Acres_Contracted\",\n",
    "    Case_Field=\"EQIPContracts_FY\",\n",
    ")\n",
    "arcpy.stats.MeanCenter(\n",
    "    Input_Feature_Class=r\"H:\\UEP 235\\Final_Project\\EQIPAnalysis\\EQIPAnalysis.gdb\\Boundary_Polygons\\CountiesWContracts\",\n",
    "    Output_Feature_Class=r\"H:\\UEP 235\\Final_Project\\EQIPAnalysis\\EQIPAnalysis.gdb\\MeanCenters\\Dollars\",\n",
    "    Weight_Field=\"EQIPContracts_Dollars_Obligated\",\n",
    "    Case_Field=\"EQIPContracts_FY\",\n",
    ")\n",
    "arcpy.stats.MeanCenter(\n",
    "    Input_Feature_Class=r\"H:\\UEP 235\\Final_Project\\EQIPAnalysis\\EQIPAnalysis.gdb\\Boundary_Polygons\\CountiesWContracts\",\n",
    "    Output_Feature_Class=r\"H:\\UEP 235\\Final_Project\\EQIPAnalysis\\EQIPAnalysis.gdb\\MeanCenters\\Contracts\",\n",
    "    Weight_Field=\"EQIPContracts_Contract_count\",\n",
    "    Case_Field=\"EQIPContracts_FY\",\n",
    ")"
   ]
  },
  {
   "cell_type": "code",
   "execution_count": null,
   "metadata": {},
   "outputs": [],
   "source": []
  }
 ],
 "metadata": {
  "kernelspec": {
   "display_name": "ArcGISPro",
   "language": "Python",
   "name": "python3"
  },
  "language_info": {
   "file_extension": ".py",
   "name": "python",
   "version": "3"
  }
 },
 "nbformat": 4,
 "nbformat_minor": 2
}
