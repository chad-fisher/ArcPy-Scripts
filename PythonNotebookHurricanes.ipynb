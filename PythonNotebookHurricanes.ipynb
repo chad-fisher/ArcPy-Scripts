{
 "cells": [
  {
   "cell_type": "code",
   "execution_count": 49,
   "metadata": {},
   "outputs": [],
   "source": [
    "#Import arcpy and set workspace\n",
    "import arcpy\n",
    "from arcpy import env\n",
    "env.workspace = \"H:/UEP 235/A4_automation/Project/Python.gdb\""
   ]
  },
  {
   "cell_type": "code",
   "execution_count": 50,
   "metadata": {
    "scrolled": false
   },
   "outputs": [
    {
     "data": {
      "text/plain": [
       "['HurricaneEvac_Zone_proj', 'florida_county', 'florida_blockgroups']"
      ]
     },
     "execution_count": 50,
     "metadata": {},
     "output_type": "execute_result"
    }
   ],
   "source": [
    "#identify feature classes in geodatabase\n",
    "arcpy.ListFeatureClasses()"
   ]
  },
  {
   "cell_type": "code",
   "execution_count": 51,
   "metadata": {},
   "outputs": [
    {
     "data": {
      "text/plain": [
       "['miami_ACS_blockgroup_2018']"
      ]
     },
     "execution_count": 51,
     "metadata": {},
     "output_type": "execute_result"
    }
   ],
   "source": [
    "#List tables in geodatabase\n",
    "arcpy.ListTables()"
   ]
  },
  {
   "cell_type": "code",
   "execution_count": 52,
   "metadata": {},
   "outputs": [
    {
     "data": {
      "text/html": [
       "<div class='gpresult'><h2>Messages</h2><div id='messages' data-messages='[\"Start Time: Wednesday, October 4, 2023 4:25:36 PM\",\"Succeeded at Wednesday, October 4, 2023 4:25:36 PM (Elapsed Time: 0.52 seconds)\"]' data-show='true'><div id = 'default' /></div></div>"
      ],
      "text/plain": [
       "<Result 'Censusbg_lyr'>"
      ]
     },
     "execution_count": 52,
     "metadata": {},
     "output_type": "execute_result"
    }
   ],
   "source": [
    "#Make layers for hurricane evacuation zones and florida block groups\n",
    "arcpy.MakeFeatureLayer_management(\"HurricaneEvac_Zone_proj\", \"HurricaneEvac_lyr\")\n",
    "arcpy.MakeFeatureLayer_management(\"florida_blockgroups\", \"Censusbg_lyr\")"
   ]
  },
  {
   "cell_type": "code",
   "execution_count": 53,
   "metadata": {},
   "outputs": [
    {
     "data": {
      "text/html": [
       "<div class='gpresult'><h2>Messages</h2><div id='messages' data-messages='[\"Start Time: Wednesday, October 4, 2023 4:25:37 PM\",\"Succeeded at Wednesday, October 4, 2023 4:25:39 PM (Elapsed Time: 2.13 seconds)\"]' data-show='true'><div id = 'default' /></div></div>"
      ],
      "text/plain": [
       "<Result 'H:/UEP 235/A4_automation/Project/Python.gdb\\\\BG_ACS_lyr'>"
      ]
     },
     "execution_count": 53,
     "metadata": {},
     "output_type": "execute_result"
    }
   ],
   "source": [
    "#Join and copy features to create block group layer with ACS data\n",
    "CensubgACSjoin = arcpy.management.AddJoin(\"Censusbg_lyr\", 'GEOFIPS', \n",
    "'miami_ACS_blockgroup_2018', 'Geo_FIPS', 'KEEP_COMMON')\n",
    "arcpy.management.CopyFeatures(CensubgACSjoin, \"BG_ACS_lyr\")\n"
   ]
  },
  {
   "cell_type": "code",
   "execution_count": 54,
   "metadata": {},
   "outputs": [
    {
     "data": {
      "text/html": [
       "<div class='gpresult'><h2>Messages</h2><div id='messages' data-messages='[\"Start Time: Wednesday, October 4, 2023 4:25:39 PM\",\"Succeeded at Wednesday, October 4, 2023 4:25:41 PM (Elapsed Time: 1.98 seconds)\"]' data-show='true'><div id = 'default' /></div></div>"
      ],
      "text/plain": [
       "<Result 'H:/UEP 235/A4_automation/Project/Python.gdb\\\\Hurricane_Cat0_lyr'>"
      ]
     },
     "execution_count": 54,
     "metadata": {},
     "output_type": "execute_result"
    }
   ],
   "source": [
    "#Select hurricane evacuation zones with category 0\n",
    "arcpy.analysis.Select(\"HurricaneEvac_lyr\",\"Hurricane_Cat0_lyr\",\"CATEGORY=0\")"
   ]
  },
  {
   "cell_type": "code",
   "execution_count": 55,
   "metadata": {},
   "outputs": [
    {
     "data": {
      "text/html": [
       "<div class='gpresult'><h2>Messages</h2><div id='messages' data-messages='[\"Start Time: Wednesday, October 4, 2023 4:25:42 PM\",\"Reading Features...\",\"Cracking Features...\",\"Assembling Features...\",\"Succeeded at Wednesday, October 4, 2023 4:25:44 PM (Elapsed Time: 2.29 seconds)\"]' data-show='true'><div id = 'default' /></div></div>"
      ],
      "text/plain": [
       "<Result 'H:/UEP 235/A4_automation/Project/Python.gdb\\\\HurrCat0bgroups_lyr'>"
      ]
     },
     "execution_count": 55,
     "metadata": {},
     "output_type": "execute_result"
    }
   ],
   "source": [
    "#Intersect bg data onto category 0 zones\n",
    "arcpy.analysis.Intersect([\"BG_ACS_lyr\", \"Hurricane_Cat0_lyr\"], \"HurrCat0bgroups_lyr\", \"ALL\")"
   ]
  },
  {
   "cell_type": "code",
   "execution_count": 56,
   "metadata": {
    "scrolled": true
   },
   "outputs": [
    {
     "data": {
      "text/html": [
       "<div class='gpresult'><h2>Messages</h2><div id='messages' data-messages='[\"Start Time: Wednesday, October 4, 2023 4:25:44 PM\",\"WARNING 003108: Input fields contained null value(s).  Null value(s) skipped.\",\"Succeeded at Wednesday, October 4, 2023 4:25:45 PM (Elapsed Time: 1.01 seconds)\"]' data-show='true'><div id = 'default' /></div></div>"
      ],
      "text/plain": [
       "<Result 'H:/UEP 235/A4_automation/Project/Python.gdb\\\\SummaryIncomeCat0'>"
      ]
     },
     "execution_count": 56,
     "metadata": {},
     "output_type": "execute_result"
    }
   ],
   "source": [
    "#Calculate summary income statistics for category 0\n",
    "statsfields = [[\"SE_A14006_001\", \"Median\"], [\"SE_A14006_001\", \"Mean\"]]\n",
    "arcpy.analysis.Statistics(\"HurrCat0bgroups_lyr\",\"SummaryIncomeCat0\",statsfields)"
   ]
  },
  {
   "cell_type": "code",
   "execution_count": 57,
   "metadata": {},
   "outputs": [],
   "source": [
    "for Cat_Num in [1,2,3,4,5]:\n",
    "    Cat=str(Cat_Num)\n",
    "    #Select hurricane evacuation zones with category \n",
    "    arcpy.analysis.Select(\"HurricaneEvac_lyr\",\"Hurricane_Cat\"+Cat+\"_lyr\",\"CATEGORY=\"+Cat)\n",
    "    #Intersect bg data onto category 2 zones\n",
    "    arcpy.analysis.Intersect([\"BG_ACS_lyr\", \"Hurricane_Cat\"+Cat+\"_lyr\"], \"HurrCat\"+Cat+\"bgroups_lyr\", \"ALL\")\n",
    "    #Calculate summary income statistics for category 2\n",
    "    statsfields = [[\"SE_A14006_001\", \"Median\"], [\"SE_A14006_001\", \"Mean\"]]\n",
    "    arcpy.analysis.Statistics(\"HurrCat\"+Cat+\"bgroups_lyr\",\"SummaryIncomeCat\"+Cat,statsfields)  "
   ]
  },
  {
   "cell_type": "code",
   "execution_count": null,
   "metadata": {},
   "outputs": [],
   "source": []
  }
 ],
 "metadata": {
  "kernelspec": {
   "display_name": "ArcGISPro",
   "language": "Python",
   "name": "python3"
  },
  "language_info": {
   "file_extension": ".py",
   "name": "python",
   "version": "3"
  }
 },
 "nbformat": 4,
 "nbformat_minor": 2
}
